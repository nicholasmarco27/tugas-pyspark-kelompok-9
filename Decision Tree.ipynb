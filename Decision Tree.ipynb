{
 "cells": [
  {
   "cell_type": "markdown",
   "metadata": {},
   "source": [
    "# Kelompok 9 Big Data Kelas B\n",
    "- Muhammad Arkananta Radithya T - 5027221003\n",
    "- Nicholas Marco Weinandra - 5027221042\n",
    "- Sighra Attariq Sumere Jati - 5027221068"
   ]
  },
  {
   "cell_type": "markdown",
   "metadata": {},
   "source": [
    "## Import PySpark"
   ]
  },
  {
   "cell_type": "code",
   "execution_count": 1,
   "metadata": {},
   "outputs": [
    {
     "name": "stdout",
     "output_type": "stream",
     "text": [
      "Defaulting to user installation because normal site-packages is not writeable\n",
      "Requirement already satisfied: pyspark in c:\\users\\loq\\appdata\\local\\packages\\pythonsoftwarefoundation.python.3.13_qbz5n2kfra8p0\\localcache\\local-packages\\python313\\site-packages (3.5.3)\n",
      "Requirement already satisfied: py4j==0.10.9.7 in c:\\users\\loq\\appdata\\local\\packages\\pythonsoftwarefoundation.python.3.13_qbz5n2kfra8p0\\localcache\\local-packages\\python313\\site-packages (from pyspark) (0.10.9.7)\n"
     ]
    }
   ],
   "source": [
    "!pip install pyspark"
   ]
  },
  {
   "cell_type": "code",
   "execution_count": 2,
   "metadata": {},
   "outputs": [
    {
     "name": "stdout",
     "output_type": "stream",
     "text": [
      "C:\\Users\\LOQ\\AppData\\Local\\Microsoft\\WindowsApps\\PythonSoftwareFoundation.Python.3.13_qbz5n2kfra8p0\\python.exe\n"
     ]
    }
   ],
   "source": [
    "import sys\n",
    "print(sys.executable)"
   ]
  },
  {
   "cell_type": "code",
   "execution_count": 3,
   "metadata": {},
   "outputs": [
    {
     "name": "stdout",
     "output_type": "stream",
     "text": [
      "Done\n"
     ]
    }
   ],
   "source": [
    "from pyspark import SparkConf, SparkContext\n",
    "from pyspark.sql import SparkSession, SQLContext\n",
    "from pyspark.sql.types import *\n",
    "import pyspark.sql.functions as F\n",
    "from pyspark.sql.functions import udf, col\n",
    "print (\"Done\")"
   ]
  },
  {
   "cell_type": "markdown",
   "metadata": {},
   "source": [
    "## Inisialisasi Spark Session"
   ]
  },
  {
   "cell_type": "code",
   "execution_count": 4,
   "metadata": {},
   "outputs": [
    {
     "data": {
      "text/html": [
       "\n",
       "            <div>\n",
       "                <p><b>SparkSession - in-memory</b></p>\n",
       "                \n",
       "        <div>\n",
       "            <p><b>SparkContext</b></p>\n",
       "\n",
       "            <p><a href=\"http://Nicholas:4042\">Spark UI</a></p>\n",
       "\n",
       "            <dl>\n",
       "              <dt>Version</dt>\n",
       "                <dd><code>v3.5.3</code></dd>\n",
       "              <dt>Master</dt>\n",
       "                <dd><code>local</code></dd>\n",
       "              <dt>AppName</dt>\n",
       "                <dd><code>Tugas</code></dd>\n",
       "            </dl>\n",
       "        </div>\n",
       "        \n",
       "            </div>\n",
       "        "
      ],
      "text/plain": [
       "<pyspark.sql.session.SparkSession at 0x2493be65160>"
      ]
     },
     "execution_count": 4,
     "metadata": {},
     "output_type": "execute_result"
    }
   ],
   "source": [
    "from pyspark.sql import SparkSession\n",
    "\n",
    "# Initialize SparkSession\n",
    "spark = SparkSession.builder.master(\"local\").appName(\"Tugas\").getOrCreate()\n",
    "\n",
    "spark\n"
   ]
  },
  {
   "cell_type": "markdown",
   "metadata": {},
   "source": [
    "## Load Dataset dengan Spark"
   ]
  },
  {
   "cell_type": "code",
   "execution_count": 5,
   "metadata": {},
   "outputs": [
    {
     "name": "stdout",
     "output_type": "stream",
     "text": [
      "+---+-------+--------+-------------------+-------------------+-----------------+------------------+-------+-------+------------+--------------------+--------------------+------------+----------+-----+----------+-------+----------+------------+-------------------+--------------+-------------+-----------+------------+--------------+--------------+---------------+-----------------+-----------------+-------+-----+--------+--------+--------+-------+-------+----------+-------+-----+---------------+--------------+------------+--------------+--------------+-----------------+---------------------+\n",
      "| ID| Source|Severity|         Start_Time|           End_Time|        Start_Lat|         Start_Lng|End_Lat|End_Lng|Distance(mi)|         Description|              Street|        City|    County|State|   Zipcode|Country|  Timezone|Airport_Code|  Weather_Timestamp|Temperature(F)|Wind_Chill(F)|Humidity(%)|Pressure(in)|Visibility(mi)|Wind_Direction|Wind_Speed(mph)|Precipitation(in)|Weather_Condition|Amenity| Bump|Crossing|Give_Way|Junction|No_Exit|Railway|Roundabout|Station| Stop|Traffic_Calming|Traffic_Signal|Turning_Loop|Sunrise_Sunset|Civil_Twilight|Nautical_Twilight|Astronomical_Twilight|\n",
      "+---+-------+--------+-------------------+-------------------+-----------------+------------------+-------+-------+------------+--------------------+--------------------+------------+----------+-----+----------+-------+----------+------------+-------------------+--------------+-------------+-----------+------------+--------------+--------------+---------------+-----------------+-----------------+-------+-----+--------+--------+--------+-------+-------+----------+-------+-----+---------------+--------------+------------+--------------+--------------+-----------------+---------------------+\n",
      "|A-1|Source2|       3|2016-02-08 05:46:00|2016-02-08 11:00:00|        39.865147|        -84.058723|   NULL|   NULL|        0.01|Right lane blocke...|              I-70 E|      Dayton|Montgomery|   OH|     45424|     US|US/Eastern|        KFFO|2016-02-08 05:58:00|          36.9|         NULL|       91.0|       29.68|          10.0|          Calm|           NULL|             0.02|       Light Rain|  false|false|   false|   false|   false|  false|  false|     false|  false|false|          false|         false|       false|         Night|         Night|            Night|                Night|\n",
      "|A-2|Source2|       2|2016-02-08 06:07:59|2016-02-08 06:37:59|39.92805900000001|        -82.831184|   NULL|   NULL|        0.01|Accident on Brice...|            Brice Rd|Reynoldsburg|  Franklin|   OH|43068-3402|     US|US/Eastern|        KCMH|2016-02-08 05:51:00|          37.9|         NULL|      100.0|       29.65|          10.0|          Calm|           NULL|              0.0|       Light Rain|  false|false|   false|   false|   false|  false|  false|     false|  false|false|          false|         false|       false|         Night|         Night|            Night|                  Day|\n",
      "|A-3|Source2|       2|2016-02-08 06:49:27|2016-02-08 07:19:27|        39.063148|        -84.032608|   NULL|   NULL|        0.01|Accident on OH-32...|      State Route 32|Williamsburg|  Clermont|   OH|     45176|     US|US/Eastern|        KI69|2016-02-08 06:56:00|          36.0|         33.3|      100.0|       29.67|          10.0|            SW|            3.5|             NULL|         Overcast|  false|false|   false|   false|   false|  false|  false|     false|  false|false|          false|          true|       false|         Night|         Night|              Day|                  Day|\n",
      "|A-4|Source2|       3|2016-02-08 07:23:34|2016-02-08 07:53:34|        39.747753|-84.20558199999998|   NULL|   NULL|        0.01|Accident on I-75 ...|              I-75 S|      Dayton|Montgomery|   OH|     45417|     US|US/Eastern|        KDAY|2016-02-08 07:38:00|          35.1|         31.0|       96.0|       29.64|           9.0|            SW|            4.6|             NULL|    Mostly Cloudy|  false|false|   false|   false|   false|  false|  false|     false|  false|false|          false|         false|       false|         Night|           Day|              Day|                  Day|\n",
      "|A-5|Source2|       2|2016-02-08 07:39:07|2016-02-08 08:09:07|        39.627781|        -84.188354|   NULL|   NULL|        0.01|Accident on McEwe...|Miamisburg Center...|      Dayton|Montgomery|   OH|     45459|     US|US/Eastern|        KMGY|2016-02-08 07:53:00|          36.0|         33.3|       89.0|       29.65|           6.0|            SW|            3.5|             NULL|    Mostly Cloudy|  false|false|   false|   false|   false|  false|  false|     false|  false|false|          false|          true|       false|           Day|           Day|              Day|                  Day|\n",
      "+---+-------+--------+-------------------+-------------------+-----------------+------------------+-------+-------+------------+--------------------+--------------------+------------+----------+-----+----------+-------+----------+------------+-------------------+--------------+-------------+-----------+------------+--------------+--------------+---------------+-----------------+-----------------+-------+-----+--------+--------+--------+-------+-------+----------+-------+-----+---------------+--------------+------------+--------------+--------------+-----------------+---------------------+\n",
      "only showing top 5 rows\n",
      "\n"
     ]
    }
   ],
   "source": [
    "df = spark.read.csv('C:/Users/LOQ/Documents/SEMESTER 5/Big Data/Tugas PySpark/US_Accidents_March23.csv/US_Accidents_March23.csv', header=True, inferSchema=True)\n",
    "df.show(5)"
   ]
  },
  {
   "cell_type": "markdown",
   "metadata": {},
   "source": [
    "# Preprocessing"
   ]
  },
  {
   "cell_type": "markdown",
   "metadata": {},
   "source": [
    "## Convert Data Waktu"
   ]
  },
  {
   "cell_type": "code",
   "execution_count": 6,
   "metadata": {},
   "outputs": [
    {
     "name": "stdout",
     "output_type": "stream",
     "text": [
      "root\n",
      " |-- ID: string (nullable = true)\n",
      " |-- Source: string (nullable = true)\n",
      " |-- Severity: integer (nullable = true)\n",
      " |-- Start_Time: timestamp (nullable = true)\n",
      " |-- End_Time: timestamp (nullable = true)\n",
      " |-- Start_Lat: double (nullable = true)\n",
      " |-- Start_Lng: double (nullable = true)\n",
      " |-- End_Lat: double (nullable = true)\n",
      " |-- End_Lng: double (nullable = true)\n",
      " |-- Distance(mi): double (nullable = true)\n",
      " |-- Description: string (nullable = true)\n",
      " |-- Street: string (nullable = true)\n",
      " |-- City: string (nullable = true)\n",
      " |-- County: string (nullable = true)\n",
      " |-- State: string (nullable = true)\n",
      " |-- Zipcode: string (nullable = true)\n",
      " |-- Country: string (nullable = true)\n",
      " |-- Timezone: string (nullable = true)\n",
      " |-- Airport_Code: string (nullable = true)\n",
      " |-- Weather_Timestamp: timestamp (nullable = true)\n",
      " |-- Temperature(F): double (nullable = true)\n",
      " |-- Wind_Chill(F): double (nullable = true)\n",
      " |-- Humidity(%): double (nullable = true)\n",
      " |-- Pressure(in): double (nullable = true)\n",
      " |-- Visibility(mi): double (nullable = true)\n",
      " |-- Wind_Direction: string (nullable = true)\n",
      " |-- Wind_Speed(mph): double (nullable = true)\n",
      " |-- Precipitation(in): double (nullable = true)\n",
      " |-- Weather_Condition: string (nullable = true)\n",
      " |-- Amenity: boolean (nullable = true)\n",
      " |-- Bump: boolean (nullable = true)\n",
      " |-- Crossing: boolean (nullable = true)\n",
      " |-- Give_Way: boolean (nullable = true)\n",
      " |-- Junction: boolean (nullable = true)\n",
      " |-- No_Exit: boolean (nullable = true)\n",
      " |-- Railway: boolean (nullable = true)\n",
      " |-- Roundabout: boolean (nullable = true)\n",
      " |-- Station: boolean (nullable = true)\n",
      " |-- Stop: boolean (nullable = true)\n",
      " |-- Traffic_Calming: boolean (nullable = true)\n",
      " |-- Traffic_Signal: boolean (nullable = true)\n",
      " |-- Turning_Loop: boolean (nullable = true)\n",
      " |-- Sunrise_Sunset: string (nullable = true)\n",
      " |-- Civil_Twilight: string (nullable = true)\n",
      " |-- Nautical_Twilight: string (nullable = true)\n",
      " |-- Astronomical_Twilight: string (nullable = true)\n",
      " |-- Year: integer (nullable = true)\n",
      " |-- Month: string (nullable = true)\n",
      " |-- Day: integer (nullable = true)\n",
      " |-- Hour: integer (nullable = true)\n",
      " |-- Weekday: string (nullable = true)\n",
      " |-- Time_Duration(min): double (nullable = true)\n",
      "\n",
      "+----+-------+--------+-------------------+-------------------+------------------+------------------+-------+-------+------------+--------------------+--------------------+------------+----------+-----+----------+-------+----------+------------+-------------------+--------------+-------------+-----------+------------+--------------+--------------+---------------+-----------------+-----------------+-------+-----+--------+--------+--------+-------+-------+----------+-------+-----+---------------+--------------+------------+--------------+--------------+-----------------+---------------------+----+-----+---+----+-------+------------------+\n",
      "|  ID| Source|Severity|         Start_Time|           End_Time|         Start_Lat|         Start_Lng|End_Lat|End_Lng|Distance(mi)|         Description|              Street|        City|    County|State|   Zipcode|Country|  Timezone|Airport_Code|  Weather_Timestamp|Temperature(F)|Wind_Chill(F)|Humidity(%)|Pressure(in)|Visibility(mi)|Wind_Direction|Wind_Speed(mph)|Precipitation(in)|Weather_Condition|Amenity| Bump|Crossing|Give_Way|Junction|No_Exit|Railway|Roundabout|Station| Stop|Traffic_Calming|Traffic_Signal|Turning_Loop|Sunrise_Sunset|Civil_Twilight|Nautical_Twilight|Astronomical_Twilight|Year|Month|Day|Hour|Weekday|Time_Duration(min)|\n",
      "+----+-------+--------+-------------------+-------------------+------------------+------------------+-------+-------+------------+--------------------+--------------------+------------+----------+-----+----------+-------+----------+------------+-------------------+--------------+-------------+-----------+------------+--------------+--------------+---------------+-----------------+-----------------+-------+-----+--------+--------+--------+-------+-------+----------+-------+-----+---------------+--------------+------------+--------------+--------------+-----------------+---------------------+----+-----+---+----+-------+------------------+\n",
      "| A-1|Source2|       3|2016-02-08 05:46:00|2016-02-08 11:00:00|         39.865147|        -84.058723|   NULL|   NULL|        0.01|Right lane blocke...|              I-70 E|      Dayton|Montgomery|   OH|     45424|     US|US/Eastern|        KFFO|2016-02-08 05:58:00|          36.9|         NULL|       91.0|       29.68|          10.0|          Calm|           NULL|             0.02|       Light Rain|  false|false|   false|   false|   false|  false|  false|     false|  false|false|          false|         false|       false|         Night|         Night|            Night|                Night|2016|  Feb|  8|   5|    Mon|             314.0|\n",
      "| A-2|Source2|       2|2016-02-08 06:07:59|2016-02-08 06:37:59| 39.92805900000001|        -82.831184|   NULL|   NULL|        0.01|Accident on Brice...|            Brice Rd|Reynoldsburg|  Franklin|   OH|43068-3402|     US|US/Eastern|        KCMH|2016-02-08 05:51:00|          37.9|         NULL|      100.0|       29.65|          10.0|          Calm|           NULL|              0.0|       Light Rain|  false|false|   false|   false|   false|  false|  false|     false|  false|false|          false|         false|       false|         Night|         Night|            Night|                  Day|2016|  Feb|  8|   6|    Mon|              30.0|\n",
      "| A-3|Source2|       2|2016-02-08 06:49:27|2016-02-08 07:19:27|         39.063148|        -84.032608|   NULL|   NULL|        0.01|Accident on OH-32...|      State Route 32|Williamsburg|  Clermont|   OH|     45176|     US|US/Eastern|        KI69|2016-02-08 06:56:00|          36.0|         33.3|      100.0|       29.67|          10.0|            SW|            3.5|             NULL|         Overcast|  false|false|   false|   false|   false|  false|  false|     false|  false|false|          false|          true|       false|         Night|         Night|              Day|                  Day|2016|  Feb|  8|   6|    Mon|              30.0|\n",
      "| A-4|Source2|       3|2016-02-08 07:23:34|2016-02-08 07:53:34|         39.747753|-84.20558199999998|   NULL|   NULL|        0.01|Accident on I-75 ...|              I-75 S|      Dayton|Montgomery|   OH|     45417|     US|US/Eastern|        KDAY|2016-02-08 07:38:00|          35.1|         31.0|       96.0|       29.64|           9.0|            SW|            4.6|             NULL|    Mostly Cloudy|  false|false|   false|   false|   false|  false|  false|     false|  false|false|          false|         false|       false|         Night|           Day|              Day|                  Day|2016|  Feb|  8|   7|    Mon|              30.0|\n",
      "| A-5|Source2|       2|2016-02-08 07:39:07|2016-02-08 08:09:07|         39.627781|        -84.188354|   NULL|   NULL|        0.01|Accident on McEwe...|Miamisburg Center...|      Dayton|Montgomery|   OH|     45459|     US|US/Eastern|        KMGY|2016-02-08 07:53:00|          36.0|         33.3|       89.0|       29.65|           6.0|            SW|            3.5|             NULL|    Mostly Cloudy|  false|false|   false|   false|   false|  false|  false|     false|  false|false|          false|          true|       false|           Day|           Day|              Day|                  Day|2016|  Feb|  8|   7|    Mon|              30.0|\n",
      "| A-6|Source2|       3|2016-02-08 07:44:26|2016-02-08 08:14:26|40.100590000000004|-82.92519399999998|   NULL|   NULL|        0.01|Accident on I-270...|      Westerville Rd| Westerville|  Franklin|   OH|     43081|     US|US/Eastern|        KCMH|2016-02-08 07:51:00|          37.9|         35.5|       97.0|       29.63|           7.0|           SSW|            3.5|             0.03|       Light Rain|  false|false|   false|   false|   false|  false|  false|     false|  false|false|          false|         false|       false|           Day|           Day|              Day|                  Day|2016|  Feb|  8|   7|    Mon|              30.0|\n",
      "| A-7|Source2|       2|2016-02-08 07:59:35|2016-02-08 08:29:35|         39.758274|-84.23050699999997|   NULL|   NULL|         0.0|Accident on Oakri...|      N Woodward Ave|      Dayton|Montgomery|   OH|45417-2476|     US|US/Eastern|        KDAY|2016-02-08 07:56:00|          34.0|         31.0|      100.0|       29.66|           7.0|           WSW|            3.5|             NULL|         Overcast|  false|false|   false|   false|   false|  false|  false|     false|  false|false|          false|         false|       false|           Day|           Day|              Day|                  Day|2016|  Feb|  8|   7|    Mon|              30.0|\n",
      "| A-8|Source2|       3|2016-02-08 07:59:58|2016-02-08 08:29:58|         39.770382|        -84.194901|   NULL|   NULL|        0.01|Accident on I-75 ...|           N Main St|      Dayton|Montgomery|   OH|     45405|     US|US/Eastern|        KDAY|2016-02-08 07:56:00|          34.0|         31.0|      100.0|       29.66|           7.0|           WSW|            3.5|             NULL|         Overcast|  false|false|   false|   false|   false|  false|  false|     false|  false|false|          false|         false|       false|           Day|           Day|              Day|                  Day|2016|  Feb|  8|   7|    Mon|              30.0|\n",
      "| A-9|Source2|       2|2016-02-08 08:00:40|2016-02-08 08:30:40|         39.778061|        -84.172005|   NULL|   NULL|         0.0|Accident on Notre...|      Notre Dame Ave|      Dayton|Montgomery|   OH|45404-1923|     US|US/Eastern|        KFFO|2016-02-08 07:58:00|          33.3|         NULL|       99.0|       29.67|           5.0|            SW|            1.2|             NULL|    Mostly Cloudy|  false|false|   false|   false|   false|  false|  false|     false|  false|false|          false|         false|       false|           Day|           Day|              Day|                  Day|2016|  Feb|  8|   8|    Mon|              30.0|\n",
      "|A-10|Source2|       3|2016-02-08 08:10:04|2016-02-08 08:40:04|40.100590000000004|-82.92519399999998|   NULL|   NULL|        0.01|Right hand should...|      Westerville Rd| Westerville|  Franklin|   OH|     43081|     US|US/Eastern|        KCMH|2016-02-08 08:28:00|          37.4|         33.8|      100.0|       29.62|           3.0|           SSW|            4.6|             0.02|       Light Rain|  false|false|   false|   false|   false|  false|  false|     false|  false|false|          false|         false|       false|           Day|           Day|              Day|                  Day|2016|  Feb|  8|   8|    Mon|              30.0|\n",
      "|A-11|Source2|       3|2016-02-08 08:14:42|2016-02-08 08:44:42|         39.952812|        -83.119293|   NULL|   NULL|        0.01|Accident on I-270...|         Outerbelt S|    Columbus|  Franklin|   OH|     43228|     US|US/Eastern|        KTZR|2016-02-08 07:50:00|          35.6|         30.7|       93.0|       29.64|           5.0|           WNW|            5.8|             NULL|             Rain|  false|false|    true|   false|    true|  false|  false|     false|  false|false|          false|         false|       false|           Day|           Day|              Day|                  Day|2016|  Feb|  8|   8|    Mon|              30.0|\n",
      "|A-12|Source2|       3|2016-02-08 08:21:27|2016-02-08 08:51:27|         39.932709|         -82.83091|   NULL|   NULL|        0.01|One lane blocked ...|              I-70 E|Reynoldsburg|  Franklin|   OH|     43068|     US|US/Eastern|        KCMH|2016-02-08 08:28:00|          37.4|         33.8|      100.0|       29.62|           3.0|           SSW|            4.6|             0.02|       Light Rain|  false|false|   false|   false|   false|  false|  false|     false|  false|false|          false|         false|       false|           Day|           Day|              Day|                  Day|2016|  Feb|  8|   8|    Mon|              30.0|\n",
      "|A-13|Source2|       2|2016-02-08 08:36:34|2016-02-08 09:06:34|         39.737633|-84.14993299999998|   NULL|   NULL|         0.0|Accident on Rever...|      Watervliet Ave|      Dayton|Montgomery|   OH|45420-1863|     US|US/Eastern|        KFFO|2016-02-08 08:28:00|          33.8|         NULL|      100.0|       29.63|           3.0|            SW|            2.3|             NULL|         Overcast|  false|false|   false|   false|   false|  false|  false|     false|  false|false|          false|         false|       false|           Day|           Day|              Day|                  Day|2016|  Feb|  8|   8|    Mon|              30.0|\n",
      "|A-14|Source2|       2|2016-02-08 08:37:07|2016-02-08 09:07:07|          39.79076|        -84.241547|   NULL|   NULL|        0.01|Accident on Salem...|           Salem Ave|      Dayton|Montgomery|   OH|45406-2708|     US|US/Eastern|        KDAY|2016-02-08 08:56:00|          36.0|         31.1|       89.0|       29.65|          10.0|            NW|            5.8|             NULL|    Mostly Cloudy|  false|false|   false|   false|   false|  false|  false|     false|  false|false|          false|          true|       false|           Day|           Day|              Day|                  Day|2016|  Feb|  8|   8|    Mon|              30.0|\n",
      "|A-15|Source2|       2|2016-02-08 08:39:43|2016-02-08 09:09:43|         39.972038|        -82.913521|   NULL|   NULL|        0.01|Accident on OH-16...|          E Broad St|    Columbus|  Franklin|   OH|43213-1006|     US|US/Eastern|        KCMH|2016-02-08 08:28:00|          37.4|         33.8|      100.0|       29.62|           3.0|           SSW|            4.6|             0.02|       Light Rain|  false|false|   false|   false|   false|  false|  false|     false|  false|false|          false|          true|       false|           Day|           Day|              Day|                  Day|2016|  Feb|  8|   8|    Mon|              30.0|\n",
      "|A-16|Source2|       2|2016-02-08 08:43:20|2016-02-08 09:13:20|         39.745888|         -84.17041|   NULL|   NULL|        0.01|Accident on Wayne...|         Glencoe Ave|      Dayton|Montgomery|   OH|45410-1721|     US|US/Eastern|        KFFO|2016-02-08 08:28:00|          33.8|         NULL|      100.0|       29.63|           3.0|            SW|            2.3|             NULL|         Overcast|  false|false|   false|   false|   false|  false|  false|     false|  false|false|          false|         false|       false|           Day|           Day|              Day|                  Day|2016|  Feb|  8|   8|    Mon|              30.0|\n",
      "|A-17|Source2|       2|2016-02-08 08:53:17|2016-02-08 09:23:17|         39.748329|        -84.224007|   NULL|   NULL|        0.01|Accident on James...|S James H McGee Blvd|      Dayton|Montgomery|   OH|     45402|     US|US/Eastern|        KFFO|2016-02-08 08:58:00|          35.6|         NULL|       99.0|       29.65|           7.0|           WSW|            2.3|             NULL|    Mostly Cloudy|  false|false|   false|   false|   false|  false|  false|     false|  false|false|          false|         false|       false|           Day|           Day|              Day|                  Day|2016|  Feb|  8|   8|    Mon|              30.0|\n",
      "|A-18|Source2|       2|2016-02-08 09:24:37|2016-02-08 09:54:37|         39.752174|        -84.239952|   NULL|   NULL|         0.0|Accident on Delph...|         Delphos Ave|      Dayton|Montgomery|   OH|45417-1727|     US|US/Eastern|        KDAY|2016-02-08 08:56:00|          36.0|         31.1|       89.0|       29.65|          10.0|            NW|            5.8|             NULL|    Mostly Cloudy|  false|false|   false|   false|   false|  false|  false|     false|  false|false|          false|         false|       false|           Day|           Day|              Day|                  Day|2016|  Feb|  8|   9|    Mon|              30.0|\n",
      "|A-19|Source2|       2|2016-02-08 09:25:17|2016-02-08 09:55:17|         39.740669|        -84.184135|   NULL|   NULL|        0.01|Accident on Stewa...|          Rubicon St|      Dayton|Montgomery|   OH|45409-2659|     US|US/Eastern|        KFFO|2016-02-08 09:38:00|          37.4|         32.1|       93.0|       29.63|          10.0|           WSW|            6.9|             NULL|         Overcast|  false|false|    true|   false|   false|  false|  false|     false|  false|false|          false|          true|       false|           Day|           Day|              Day|                  Day|2016|  Feb|  8|   9|    Mon|              30.0|\n",
      "|A-20|Source2|       2|2016-02-08 09:35:35|2016-02-08 10:05:35|         39.790703|        -84.244461|   NULL|   NULL|        0.01|Accident on Hillc...|     W Hillcrest Ave|      Dayton|Montgomery|   OH|45406-2640|     US|US/Eastern|        KDAY|2016-02-08 09:56:00|          36.0|         30.3|       89.0|       29.65|          10.0|          West|            6.9|             NULL|    Mostly Cloudy|  false|false|   false|   false|   false|  false|  false|     false|  false|false|          false|         false|       false|           Day|           Day|              Day|                  Day|2016|  Feb|  8|   9|    Mon|              30.0|\n",
      "+----+-------+--------+-------------------+-------------------+------------------+------------------+-------+-------+------------+--------------------+--------------------+------------+----------+-----+----------+-------+----------+------------+-------------------+--------------+-------------+-----------+------------+--------------+--------------+---------------+-----------------+-----------------+-------+-----+--------+--------+--------+-------+-------+----------+-------+-----+---------------+--------------+------------+--------------+--------------+-----------------+---------------------+----+-----+---+----+-------+------------------+\n",
      "only showing top 20 rows\n",
      "\n"
     ]
    }
   ],
   "source": [
    "from pyspark.sql.functions import col, round as pyspark_round, to_timestamp, year, month, dayofmonth, hour, date_format\n",
    "from pyspark.sql import functions as F\n",
    "\n",
    "# Misalkan 'df' adalah PySpark DataFrame\n",
    "# Convert Start_Time and End_Time to timestamp\n",
    "df = df.withColumn('Start_Time', to_timestamp(col('Start_Time')))\n",
    "df = df.withColumn('End_Time', to_timestamp(col('End_Time')))\n",
    "\n",
    "# Extract year, month, day, hour and weekday\n",
    "df = df.withColumn('Year', year(col('Start_Time')))\n",
    "df = df.withColumn('Month', date_format(col('Start_Time'), 'MMM'))\n",
    "df = df.withColumn('Day', dayofmonth(col('Start_Time')))\n",
    "df = df.withColumn('Hour', hour(col('Start_Time')))\n",
    "df = df.withColumn('Weekday', date_format(col('Start_Time'), 'E'))\n",
    "\n",
    "# Calculate the duration in minutes (round to nearest integer)\n",
    "df = df.withColumn('Time_Duration(min)', \n",
    "                   pyspark_round((F.col('End_Time').cast(\"long\") - F.col('Start_Time').cast(\"long\")) / 60))\n",
    "\n",
    "# Show the schema of the DataFrame\n",
    "df.printSchema()\n",
    "\n",
    "# Display first few rows (optional)\n",
    "df.show()"
   ]
  },
  {
   "cell_type": "code",
   "execution_count": 7,
   "metadata": {},
   "outputs": [
    {
     "name": "stdout",
     "output_type": "stream",
     "text": [
      "['ID', 'Source', 'Severity', 'Start_Time', 'End_Time', 'Start_Lat', 'Start_Lng', 'End_Lat', 'End_Lng', 'Distance(mi)', 'Description', 'Street', 'City', 'County', 'State', 'Zipcode', 'Country', 'Timezone', 'Airport_Code', 'Weather_Timestamp', 'Temperature(F)', 'Wind_Chill(F)', 'Humidity(%)', 'Pressure(in)', 'Visibility(mi)', 'Wind_Direction', 'Wind_Speed(mph)', 'Precipitation(in)', 'Weather_Condition', 'Amenity', 'Bump', 'Crossing', 'Give_Way', 'Junction', 'No_Exit', 'Railway', 'Roundabout', 'Station', 'Stop', 'Traffic_Calming', 'Traffic_Signal', 'Turning_Loop', 'Sunrise_Sunset', 'Civil_Twilight', 'Nautical_Twilight', 'Astronomical_Twilight', 'Year', 'Month', 'Day', 'Hour', 'Weekday', 'Time_Duration(min)']\n"
     ]
    }
   ],
   "source": [
    "# Print all column names in the DataFrame\n",
    "print(df.columns)"
   ]
  },
  {
   "cell_type": "markdown",
   "metadata": {},
   "source": [
    "## Feature Selection"
   ]
  },
  {
   "cell_type": "code",
   "execution_count": 8,
   "metadata": {},
   "outputs": [],
   "source": [
    "# Set the list of features to include in Machine Learning\n",
    "feature_lst=['Source','Severity','Start_Lng','Start_Lat','Distance(mi)','City','State','Timezone', 'Visibility(mi)', 'Wind_Direction','Weather_Condition','Amenity','Bump','Crossing','Junction','Stop','Traffic_Calming','Traffic_Signal','Hour','Weekday', 'Time_Duration(min)']"
   ]
  },
  {
   "cell_type": "code",
   "execution_count": 9,
   "metadata": {},
   "outputs": [
    {
     "name": "stdout",
     "output_type": "stream",
     "text": [
      "root\n",
      " |-- Source: string (nullable = true)\n",
      " |-- Severity: integer (nullable = true)\n",
      " |-- Start_Lng: double (nullable = true)\n",
      " |-- Start_Lat: double (nullable = true)\n",
      " |-- Distance(mi): double (nullable = true)\n",
      " |-- City: string (nullable = true)\n",
      " |-- State: string (nullable = true)\n",
      " |-- Timezone: string (nullable = true)\n",
      " |-- Visibility(mi): double (nullable = true)\n",
      " |-- Wind_Direction: string (nullable = true)\n",
      " |-- Weather_Condition: string (nullable = true)\n",
      " |-- Amenity: boolean (nullable = true)\n",
      " |-- Bump: boolean (nullable = true)\n",
      " |-- Crossing: boolean (nullable = true)\n",
      " |-- Junction: boolean (nullable = true)\n",
      " |-- Stop: boolean (nullable = true)\n",
      " |-- Traffic_Calming: boolean (nullable = true)\n",
      " |-- Traffic_Signal: boolean (nullable = true)\n",
      " |-- Hour: integer (nullable = true)\n",
      " |-- Weekday: string (nullable = true)\n",
      " |-- Time_Duration(min): double (nullable = true)\n",
      "\n",
      "+-------+--------+------------------+------------------+------------+------------+-----+----------+--------------+--------------+-----------------+-------+-----+--------+--------+-----+---------------+--------------+----+-------+------------------+\n",
      "| Source|Severity|         Start_Lng|         Start_Lat|Distance(mi)|        City|State|  Timezone|Visibility(mi)|Wind_Direction|Weather_Condition|Amenity| Bump|Crossing|Junction| Stop|Traffic_Calming|Traffic_Signal|Hour|Weekday|Time_Duration(min)|\n",
      "+-------+--------+------------------+------------------+------------+------------+-----+----------+--------------+--------------+-----------------+-------+-----+--------+--------+-----+---------------+--------------+----+-------+------------------+\n",
      "|Source2|       3|        -84.058723|         39.865147|        0.01|      Dayton|   OH|US/Eastern|          10.0|          Calm|       Light Rain|  false|false|   false|   false|false|          false|         false|   5|    Mon|             314.0|\n",
      "|Source2|       2|        -82.831184| 39.92805900000001|        0.01|Reynoldsburg|   OH|US/Eastern|          10.0|          Calm|       Light Rain|  false|false|   false|   false|false|          false|         false|   6|    Mon|              30.0|\n",
      "|Source2|       2|        -84.032608|         39.063148|        0.01|Williamsburg|   OH|US/Eastern|          10.0|            SW|         Overcast|  false|false|   false|   false|false|          false|          true|   6|    Mon|              30.0|\n",
      "|Source2|       3|-84.20558199999998|         39.747753|        0.01|      Dayton|   OH|US/Eastern|           9.0|            SW|    Mostly Cloudy|  false|false|   false|   false|false|          false|         false|   7|    Mon|              30.0|\n",
      "|Source2|       2|        -84.188354|         39.627781|        0.01|      Dayton|   OH|US/Eastern|           6.0|            SW|    Mostly Cloudy|  false|false|   false|   false|false|          false|          true|   7|    Mon|              30.0|\n",
      "|Source2|       3|-82.92519399999998|40.100590000000004|        0.01| Westerville|   OH|US/Eastern|           7.0|           SSW|       Light Rain|  false|false|   false|   false|false|          false|         false|   7|    Mon|              30.0|\n",
      "|Source2|       2|-84.23050699999997|         39.758274|         0.0|      Dayton|   OH|US/Eastern|           7.0|           WSW|         Overcast|  false|false|   false|   false|false|          false|         false|   7|    Mon|              30.0|\n",
      "|Source2|       3|        -84.194901|         39.770382|        0.01|      Dayton|   OH|US/Eastern|           7.0|           WSW|         Overcast|  false|false|   false|   false|false|          false|         false|   7|    Mon|              30.0|\n",
      "|Source2|       2|        -84.172005|         39.778061|         0.0|      Dayton|   OH|US/Eastern|           5.0|            SW|    Mostly Cloudy|  false|false|   false|   false|false|          false|         false|   8|    Mon|              30.0|\n",
      "|Source2|       3|-82.92519399999998|40.100590000000004|        0.01| Westerville|   OH|US/Eastern|           3.0|           SSW|       Light Rain|  false|false|   false|   false|false|          false|         false|   8|    Mon|              30.0|\n",
      "|Source2|       3|        -83.119293|         39.952812|        0.01|    Columbus|   OH|US/Eastern|           5.0|           WNW|             Rain|  false|false|    true|    true|false|          false|         false|   8|    Mon|              30.0|\n",
      "|Source2|       3|         -82.83091|         39.932709|        0.01|Reynoldsburg|   OH|US/Eastern|           3.0|           SSW|       Light Rain|  false|false|   false|   false|false|          false|         false|   8|    Mon|              30.0|\n",
      "|Source2|       2|-84.14993299999998|         39.737633|         0.0|      Dayton|   OH|US/Eastern|           3.0|            SW|         Overcast|  false|false|   false|   false|false|          false|         false|   8|    Mon|              30.0|\n",
      "|Source2|       2|        -84.241547|          39.79076|        0.01|      Dayton|   OH|US/Eastern|          10.0|            NW|    Mostly Cloudy|  false|false|   false|   false|false|          false|          true|   8|    Mon|              30.0|\n",
      "|Source2|       2|        -82.913521|         39.972038|        0.01|    Columbus|   OH|US/Eastern|           3.0|           SSW|       Light Rain|  false|false|   false|   false|false|          false|          true|   8|    Mon|              30.0|\n",
      "|Source2|       2|         -84.17041|         39.745888|        0.01|      Dayton|   OH|US/Eastern|           3.0|            SW|         Overcast|  false|false|   false|   false|false|          false|         false|   8|    Mon|              30.0|\n",
      "|Source2|       2|        -84.224007|         39.748329|        0.01|      Dayton|   OH|US/Eastern|           7.0|           WSW|    Mostly Cloudy|  false|false|   false|   false|false|          false|         false|   8|    Mon|              30.0|\n",
      "|Source2|       2|        -84.239952|         39.752174|         0.0|      Dayton|   OH|US/Eastern|          10.0|            NW|    Mostly Cloudy|  false|false|   false|   false|false|          false|         false|   9|    Mon|              30.0|\n",
      "|Source2|       2|        -84.184135|         39.740669|        0.01|      Dayton|   OH|US/Eastern|          10.0|           WSW|         Overcast|  false|false|    true|   false|false|          false|          true|   9|    Mon|              30.0|\n",
      "|Source2|       2|        -84.244461|         39.790703|        0.01|      Dayton|   OH|US/Eastern|          10.0|          West|    Mostly Cloudy|  false|false|   false|   false|false|          false|         false|   9|    Mon|              30.0|\n",
      "+-------+--------+------------------+------------------+------------+------------+-----+----------+--------------+--------------+-----------------+-------+-----+--------+--------+-----+---------------+--------------+----+-------+------------------+\n",
      "only showing top 20 rows\n",
      "\n"
     ]
    }
   ],
   "source": [
    "from pyspark.sql import functions as F\n",
    "    \n",
    "# Select the dataset to include only the selected features\n",
    "df_sel = df.select([F.col(c) for c in feature_lst])\n",
    "\n",
    "# Show schema of the selected DataFrame\n",
    "df_sel.printSchema()\n",
    "\n",
    "# Show some rows (optional)\n",
    "df_sel.show()\n"
   ]
  },
  {
   "cell_type": "markdown",
   "metadata": {},
   "source": [
    "## Handle Missing Values"
   ]
  },
  {
   "cell_type": "code",
   "execution_count": 10,
   "metadata": {},
   "outputs": [
    {
     "name": "stdout",
     "output_type": "stream",
     "text": [
      "+------+--------+---------+---------+------------+----+-----+--------+--------------+--------------+-----------------+-------+----+--------+--------+----+---------------+--------------+----+-------+------------------+\n",
      "|Source|Severity|Start_Lng|Start_Lat|Distance(mi)|City|State|Timezone|Visibility(mi)|Wind_Direction|Weather_Condition|Amenity|Bump|Crossing|Junction|Stop|Traffic_Calming|Traffic_Signal|Hour|Weekday|Time_Duration(min)|\n",
      "+------+--------+---------+---------+------------+----+-----+--------+--------------+--------------+-----------------+-------+----+--------+--------+----+---------------+--------------+----+-------+------------------+\n",
      "|     0|       0|        0|        0|           0| 253|    0|    7808|        177098|        175206|           173459|      0|   0|       0|       0|   0|              0|             0|   0|      0|                 0|\n",
      "+------+--------+---------+---------+------------+----+-----+--------+--------------+--------------+-----------------+-------+----+--------+--------+----+---------------+--------------+----+-------+------------------+\n",
      "\n"
     ]
    }
   ],
   "source": [
    "from pyspark.sql.functions import col, sum, when\n",
    "\n",
    "# Count the number of missing values (null or NaN) in each column\n",
    "missing_values = df_sel.select([sum(when(col(c).isNull(), 1).otherwise(0)).alias(c) for c in df_sel.columns])\n",
    "\n",
    "# Show the result\n",
    "missing_values.show()\n"
   ]
  },
  {
   "cell_type": "code",
   "execution_count": 11,
   "metadata": {},
   "outputs": [
    {
     "name": "stdout",
     "output_type": "stream",
     "text": [
      "+-------+--------+------------------+------------------+------------+------------+-----+----------+--------------+--------------+-----------------+-------+-----+--------+--------+-----+---------------+--------------+----+-------+------------------+\n",
      "| Source|Severity|         Start_Lng|         Start_Lat|Distance(mi)|        City|State|  Timezone|Visibility(mi)|Wind_Direction|Weather_Condition|Amenity| Bump|Crossing|Junction| Stop|Traffic_Calming|Traffic_Signal|Hour|Weekday|Time_Duration(min)|\n",
      "+-------+--------+------------------+------------------+------------+------------+-----+----------+--------------+--------------+-----------------+-------+-----+--------+--------+-----+---------------+--------------+----+-------+------------------+\n",
      "|Source2|       3|        -84.058723|         39.865147|        0.01|      Dayton|   OH|US/Eastern|          10.0|          Calm|       Light Rain|  false|false|   false|   false|false|          false|         false|   5|    Mon|             314.0|\n",
      "|Source2|       2|        -82.831184| 39.92805900000001|        0.01|Reynoldsburg|   OH|US/Eastern|          10.0|          Calm|       Light Rain|  false|false|   false|   false|false|          false|         false|   6|    Mon|              30.0|\n",
      "|Source2|       2|        -84.032608|         39.063148|        0.01|Williamsburg|   OH|US/Eastern|          10.0|            SW|         Overcast|  false|false|   false|   false|false|          false|          true|   6|    Mon|              30.0|\n",
      "|Source2|       3|-84.20558199999998|         39.747753|        0.01|      Dayton|   OH|US/Eastern|           9.0|            SW|    Mostly Cloudy|  false|false|   false|   false|false|          false|         false|   7|    Mon|              30.0|\n",
      "|Source2|       2|        -84.188354|         39.627781|        0.01|      Dayton|   OH|US/Eastern|           6.0|            SW|    Mostly Cloudy|  false|false|   false|   false|false|          false|          true|   7|    Mon|              30.0|\n",
      "|Source2|       3|-82.92519399999998|40.100590000000004|        0.01| Westerville|   OH|US/Eastern|           7.0|           SSW|       Light Rain|  false|false|   false|   false|false|          false|         false|   7|    Mon|              30.0|\n",
      "|Source2|       2|-84.23050699999997|         39.758274|         0.0|      Dayton|   OH|US/Eastern|           7.0|           WSW|         Overcast|  false|false|   false|   false|false|          false|         false|   7|    Mon|              30.0|\n",
      "|Source2|       3|        -84.194901|         39.770382|        0.01|      Dayton|   OH|US/Eastern|           7.0|           WSW|         Overcast|  false|false|   false|   false|false|          false|         false|   7|    Mon|              30.0|\n",
      "|Source2|       2|        -84.172005|         39.778061|         0.0|      Dayton|   OH|US/Eastern|           5.0|            SW|    Mostly Cloudy|  false|false|   false|   false|false|          false|         false|   8|    Mon|              30.0|\n",
      "|Source2|       3|-82.92519399999998|40.100590000000004|        0.01| Westerville|   OH|US/Eastern|           3.0|           SSW|       Light Rain|  false|false|   false|   false|false|          false|         false|   8|    Mon|              30.0|\n",
      "|Source2|       3|        -83.119293|         39.952812|        0.01|    Columbus|   OH|US/Eastern|           5.0|           WNW|             Rain|  false|false|    true|    true|false|          false|         false|   8|    Mon|              30.0|\n",
      "|Source2|       3|         -82.83091|         39.932709|        0.01|Reynoldsburg|   OH|US/Eastern|           3.0|           SSW|       Light Rain|  false|false|   false|   false|false|          false|         false|   8|    Mon|              30.0|\n",
      "|Source2|       2|-84.14993299999998|         39.737633|         0.0|      Dayton|   OH|US/Eastern|           3.0|            SW|         Overcast|  false|false|   false|   false|false|          false|         false|   8|    Mon|              30.0|\n",
      "|Source2|       2|        -84.241547|          39.79076|        0.01|      Dayton|   OH|US/Eastern|          10.0|            NW|    Mostly Cloudy|  false|false|   false|   false|false|          false|          true|   8|    Mon|              30.0|\n",
      "|Source2|       2|        -82.913521|         39.972038|        0.01|    Columbus|   OH|US/Eastern|           3.0|           SSW|       Light Rain|  false|false|   false|   false|false|          false|          true|   8|    Mon|              30.0|\n",
      "|Source2|       2|         -84.17041|         39.745888|        0.01|      Dayton|   OH|US/Eastern|           3.0|            SW|         Overcast|  false|false|   false|   false|false|          false|         false|   8|    Mon|              30.0|\n",
      "|Source2|       2|        -84.224007|         39.748329|        0.01|      Dayton|   OH|US/Eastern|           7.0|           WSW|    Mostly Cloudy|  false|false|   false|   false|false|          false|         false|   8|    Mon|              30.0|\n",
      "|Source2|       2|        -84.239952|         39.752174|         0.0|      Dayton|   OH|US/Eastern|          10.0|            NW|    Mostly Cloudy|  false|false|   false|   false|false|          false|         false|   9|    Mon|              30.0|\n",
      "|Source2|       2|        -84.184135|         39.740669|        0.01|      Dayton|   OH|US/Eastern|          10.0|           WSW|         Overcast|  false|false|    true|   false|false|          false|          true|   9|    Mon|              30.0|\n",
      "|Source2|       2|        -84.244461|         39.790703|        0.01|      Dayton|   OH|US/Eastern|          10.0|          West|    Mostly Cloudy|  false|false|   false|   false|false|          false|         false|   9|    Mon|              30.0|\n",
      "+-------+--------+------------------+------------------+------------+------------+-----+----------+--------------+--------------+-----------------+-------+-----+--------+--------+-----+---------------+--------------+----+-------+------------------+\n",
      "only showing top 20 rows\n",
      "\n"
     ]
    }
   ],
   "source": [
    "# Drop rows with any missing values\n",
    "df_sel = df_sel.dropna()\n",
    "\n",
    "# Show the result to verify\n",
    "df_sel.show()"
   ]
  },
  {
   "cell_type": "code",
   "execution_count": 12,
   "metadata": {},
   "outputs": [
    {
     "name": "stdout",
     "output_type": "stream",
     "text": [
      "root\n",
      " |-- Source: string (nullable = true)\n",
      " |-- Severity: integer (nullable = true)\n",
      " |-- Start_Lng: double (nullable = true)\n",
      " |-- Start_Lat: double (nullable = true)\n",
      " |-- Distance(mi): double (nullable = true)\n",
      " |-- City: string (nullable = true)\n",
      " |-- State: string (nullable = true)\n",
      " |-- Timezone: string (nullable = true)\n",
      " |-- Visibility(mi): double (nullable = true)\n",
      " |-- Wind_Direction: string (nullable = true)\n",
      " |-- Weather_Condition: string (nullable = true)\n",
      " |-- Amenity: boolean (nullable = true)\n",
      " |-- Bump: boolean (nullable = true)\n",
      " |-- Crossing: boolean (nullable = true)\n",
      " |-- Junction: boolean (nullable = true)\n",
      " |-- Stop: boolean (nullable = true)\n",
      " |-- Traffic_Calming: boolean (nullable = true)\n",
      " |-- Traffic_Signal: boolean (nullable = true)\n",
      " |-- Hour: integer (nullable = true)\n",
      " |-- Weekday: string (nullable = true)\n",
      " |-- Time_Duration(min): double (nullable = true)\n",
      "\n"
     ]
    }
   ],
   "source": [
    "df_sel.printSchema()"
   ]
  },
  {
   "cell_type": "markdown",
   "metadata": {},
   "source": [
    "## Encode Data Kategorikal dengan OHE"
   ]
  },
  {
   "cell_type": "code",
   "execution_count": 13,
   "metadata": {},
   "outputs": [
    {
     "name": "stdout",
     "output_type": "stream",
     "text": [
      "+-------+--------+------------------+------------------+------------+------------+-----+----------+--------------+--------------+-----------------+-------+-----+--------+--------+-----+---------------+--------------+----+-------+------------------+------------+----------+-----------+--------------+--------------------+-----------------------+-------------+-------------+--------------------+---------------+-------------+------------------+---------------------+-------------+-------------+--------------------+---------------+-------------+------------------+---------------------+-------------+\n",
      "|Source |Severity|Start_Lng         |Start_Lat         |Distance(mi)|City        |State|Timezone  |Visibility(mi)|Wind_Direction|Weather_Condition|Amenity|Bump |Crossing|Junction|Stop |Traffic_Calming|Traffic_Signal|Hour|Weekday|Time_Duration(min)|Source_index|City_index|State_index|Timezone_index|Wind_Direction_index|Weather_Condition_index|Weekday_index|Source_ohe   |City_ohe            |State_ohe      |Timezone_ohe |Wind_Direction_ohe|Weather_Condition_ohe|Weekday_ohe  |Source_ohe   |City_ohe            |State_ohe      |Timezone_ohe |Wind_Direction_ohe|Weather_Condition_ohe|Weekday_ohe  |\n",
      "+-------+--------+------------------+------------------+------------+------------+-----+----------+--------------+--------------+-----------------+-------+-----+--------+--------+-----+---------------+--------------+----+-------+------------------+------------+----------+-----------+--------------+--------------------+-----------------------+-------------+-------------+--------------------+---------------+-------------+------------------+---------------------+-------------+-------------+--------------------+---------------+-------------+------------------+---------------------+-------------+\n",
      "|Source2|3       |-84.058723        |39.865147         |0.01        |Dayton      |OH   |US/Eastern|10.0          |Calm          |Light Rain       |false  |false|false   |false   |false|false          |false         |5   |Mon    |314.0             |1.0         |40.0      |17.0       |0.0           |6.0                 |6.0                    |4.0          |(2,[1],[1.0])|(13181,[40],[1.0])  |(48,[17],[1.0])|(3,[0],[1.0])|(23,[6],[1.0])    |(142,[6],[1.0])      |(6,[4],[1.0])|(2,[1],[1.0])|(13181,[40],[1.0])  |(48,[17],[1.0])|(3,[0],[1.0])|(23,[6],[1.0])    |(142,[6],[1.0])      |(6,[4],[1.0])|\n",
      "|Source2|2       |-82.831184        |39.92805900000001 |0.01        |Reynoldsburg|OH   |US/Eastern|10.0          |Calm          |Light Rain       |false  |false|false   |false   |false|false          |false         |6   |Mon    |30.0              |1.0         |2006.0    |17.0       |0.0           |6.0                 |6.0                    |4.0          |(2,[1],[1.0])|(13181,[2006],[1.0])|(48,[17],[1.0])|(3,[0],[1.0])|(23,[6],[1.0])    |(142,[6],[1.0])      |(6,[4],[1.0])|(2,[1],[1.0])|(13181,[2006],[1.0])|(48,[17],[1.0])|(3,[0],[1.0])|(23,[6],[1.0])    |(142,[6],[1.0])      |(6,[4],[1.0])|\n",
      "|Source2|2       |-84.032608        |39.063148         |0.01        |Williamsburg|OH   |US/Eastern|10.0          |SW            |Overcast         |false  |false|false   |false   |false|false          |true          |6   |Mon    |30.0              |1.0         |549.0     |17.0       |0.0           |7.0                 |5.0                    |4.0          |(2,[1],[1.0])|(13181,[549],[1.0]) |(48,[17],[1.0])|(3,[0],[1.0])|(23,[7],[1.0])    |(142,[5],[1.0])      |(6,[4],[1.0])|(2,[1],[1.0])|(13181,[549],[1.0]) |(48,[17],[1.0])|(3,[0],[1.0])|(23,[7],[1.0])    |(142,[5],[1.0])      |(6,[4],[1.0])|\n",
      "|Source2|3       |-84.20558199999998|39.747753         |0.01        |Dayton      |OH   |US/Eastern|9.0           |SW            |Mostly Cloudy    |false  |false|false   |false   |false|false          |false         |7   |Mon    |30.0              |1.0         |40.0      |17.0       |0.0           |7.0                 |1.0                    |4.0          |(2,[1],[1.0])|(13181,[40],[1.0])  |(48,[17],[1.0])|(3,[0],[1.0])|(23,[7],[1.0])    |(142,[1],[1.0])      |(6,[4],[1.0])|(2,[1],[1.0])|(13181,[40],[1.0])  |(48,[17],[1.0])|(3,[0],[1.0])|(23,[7],[1.0])    |(142,[1],[1.0])      |(6,[4],[1.0])|\n",
      "|Source2|2       |-84.188354        |39.627781         |0.01        |Dayton      |OH   |US/Eastern|6.0           |SW            |Mostly Cloudy    |false  |false|false   |false   |false|false          |true          |7   |Mon    |30.0              |1.0         |40.0      |17.0       |0.0           |7.0                 |1.0                    |4.0          |(2,[1],[1.0])|(13181,[40],[1.0])  |(48,[17],[1.0])|(3,[0],[1.0])|(23,[7],[1.0])    |(142,[1],[1.0])      |(6,[4],[1.0])|(2,[1],[1.0])|(13181,[40],[1.0])  |(48,[17],[1.0])|(3,[0],[1.0])|(23,[7],[1.0])    |(142,[1],[1.0])      |(6,[4],[1.0])|\n",
      "|Source2|3       |-82.92519399999998|40.100590000000004|0.01        |Westerville |OH   |US/Eastern|7.0           |SSW           |Light Rain       |false  |false|false   |false   |false|false          |false         |7   |Mon    |30.0              |1.0         |1128.0    |17.0       |0.0           |2.0                 |6.0                    |4.0          |(2,[1],[1.0])|(13181,[1128],[1.0])|(48,[17],[1.0])|(3,[0],[1.0])|(23,[2],[1.0])    |(142,[6],[1.0])      |(6,[4],[1.0])|(2,[1],[1.0])|(13181,[1128],[1.0])|(48,[17],[1.0])|(3,[0],[1.0])|(23,[2],[1.0])    |(142,[6],[1.0])      |(6,[4],[1.0])|\n",
      "|Source2|2       |-84.23050699999997|39.758274         |0.0         |Dayton      |OH   |US/Eastern|7.0           |WSW           |Overcast         |false  |false|false   |false   |false|false          |false         |7   |Mon    |30.0              |1.0         |40.0      |17.0       |0.0           |8.0                 |5.0                    |4.0          |(2,[1],[1.0])|(13181,[40],[1.0])  |(48,[17],[1.0])|(3,[0],[1.0])|(23,[8],[1.0])    |(142,[5],[1.0])      |(6,[4],[1.0])|(2,[1],[1.0])|(13181,[40],[1.0])  |(48,[17],[1.0])|(3,[0],[1.0])|(23,[8],[1.0])    |(142,[5],[1.0])      |(6,[4],[1.0])|\n",
      "|Source2|3       |-84.194901        |39.770382         |0.01        |Dayton      |OH   |US/Eastern|7.0           |WSW           |Overcast         |false  |false|false   |false   |false|false          |false         |7   |Mon    |30.0              |1.0         |40.0      |17.0       |0.0           |8.0                 |5.0                    |4.0          |(2,[1],[1.0])|(13181,[40],[1.0])  |(48,[17],[1.0])|(3,[0],[1.0])|(23,[8],[1.0])    |(142,[5],[1.0])      |(6,[4],[1.0])|(2,[1],[1.0])|(13181,[40],[1.0])  |(48,[17],[1.0])|(3,[0],[1.0])|(23,[8],[1.0])    |(142,[5],[1.0])      |(6,[4],[1.0])|\n",
      "|Source2|2       |-84.172005        |39.778061         |0.0         |Dayton      |OH   |US/Eastern|5.0           |SW            |Mostly Cloudy    |false  |false|false   |false   |false|false          |false         |8   |Mon    |30.0              |1.0         |40.0      |17.0       |0.0           |7.0                 |1.0                    |4.0          |(2,[1],[1.0])|(13181,[40],[1.0])  |(48,[17],[1.0])|(3,[0],[1.0])|(23,[7],[1.0])    |(142,[1],[1.0])      |(6,[4],[1.0])|(2,[1],[1.0])|(13181,[40],[1.0])  |(48,[17],[1.0])|(3,[0],[1.0])|(23,[7],[1.0])    |(142,[1],[1.0])      |(6,[4],[1.0])|\n",
      "|Source2|3       |-82.92519399999998|40.100590000000004|0.01        |Westerville |OH   |US/Eastern|3.0           |SSW           |Light Rain       |false  |false|false   |false   |false|false          |false         |8   |Mon    |30.0              |1.0         |1128.0    |17.0       |0.0           |2.0                 |6.0                    |4.0          |(2,[1],[1.0])|(13181,[1128],[1.0])|(48,[17],[1.0])|(3,[0],[1.0])|(23,[2],[1.0])    |(142,[6],[1.0])      |(6,[4],[1.0])|(2,[1],[1.0])|(13181,[1128],[1.0])|(48,[17],[1.0])|(3,[0],[1.0])|(23,[2],[1.0])    |(142,[6],[1.0])      |(6,[4],[1.0])|\n",
      "|Source2|3       |-83.119293        |39.952812         |0.01        |Columbus    |OH   |US/Eastern|5.0           |WNW           |Rain             |false  |false|true    |true    |false|false          |false         |8   |Mon    |30.0              |1.0         |41.0      |17.0       |0.0           |4.0                 |10.0                   |4.0          |(2,[1],[1.0])|(13181,[41],[1.0])  |(48,[17],[1.0])|(3,[0],[1.0])|(23,[4],[1.0])    |(142,[10],[1.0])     |(6,[4],[1.0])|(2,[1],[1.0])|(13181,[41],[1.0])  |(48,[17],[1.0])|(3,[0],[1.0])|(23,[4],[1.0])    |(142,[10],[1.0])     |(6,[4],[1.0])|\n",
      "|Source2|3       |-82.83091         |39.932709         |0.01        |Reynoldsburg|OH   |US/Eastern|3.0           |SSW           |Light Rain       |false  |false|false   |false   |false|false          |false         |8   |Mon    |30.0              |1.0         |2006.0    |17.0       |0.0           |2.0                 |6.0                    |4.0          |(2,[1],[1.0])|(13181,[2006],[1.0])|(48,[17],[1.0])|(3,[0],[1.0])|(23,[2],[1.0])    |(142,[6],[1.0])      |(6,[4],[1.0])|(2,[1],[1.0])|(13181,[2006],[1.0])|(48,[17],[1.0])|(3,[0],[1.0])|(23,[2],[1.0])    |(142,[6],[1.0])      |(6,[4],[1.0])|\n",
      "|Source2|2       |-84.14993299999998|39.737633         |0.0         |Dayton      |OH   |US/Eastern|3.0           |SW            |Overcast         |false  |false|false   |false   |false|false          |false         |8   |Mon    |30.0              |1.0         |40.0      |17.0       |0.0           |7.0                 |5.0                    |4.0          |(2,[1],[1.0])|(13181,[40],[1.0])  |(48,[17],[1.0])|(3,[0],[1.0])|(23,[7],[1.0])    |(142,[5],[1.0])      |(6,[4],[1.0])|(2,[1],[1.0])|(13181,[40],[1.0])  |(48,[17],[1.0])|(3,[0],[1.0])|(23,[7],[1.0])    |(142,[5],[1.0])      |(6,[4],[1.0])|\n",
      "|Source2|2       |-84.241547        |39.79076          |0.01        |Dayton      |OH   |US/Eastern|10.0          |NW            |Mostly Cloudy    |false  |false|false   |false   |false|false          |true          |8   |Mon    |30.0              |1.0         |40.0      |17.0       |0.0           |5.0                 |1.0                    |4.0          |(2,[1],[1.0])|(13181,[40],[1.0])  |(48,[17],[1.0])|(3,[0],[1.0])|(23,[5],[1.0])    |(142,[1],[1.0])      |(6,[4],[1.0])|(2,[1],[1.0])|(13181,[40],[1.0])  |(48,[17],[1.0])|(3,[0],[1.0])|(23,[5],[1.0])    |(142,[1],[1.0])      |(6,[4],[1.0])|\n",
      "|Source2|2       |-82.913521        |39.972038         |0.01        |Columbus    |OH   |US/Eastern|3.0           |SSW           |Light Rain       |false  |false|false   |false   |false|false          |true          |8   |Mon    |30.0              |1.0         |41.0      |17.0       |0.0           |2.0                 |6.0                    |4.0          |(2,[1],[1.0])|(13181,[41],[1.0])  |(48,[17],[1.0])|(3,[0],[1.0])|(23,[2],[1.0])    |(142,[6],[1.0])      |(6,[4],[1.0])|(2,[1],[1.0])|(13181,[41],[1.0])  |(48,[17],[1.0])|(3,[0],[1.0])|(23,[2],[1.0])    |(142,[6],[1.0])      |(6,[4],[1.0])|\n",
      "|Source2|2       |-84.17041         |39.745888         |0.01        |Dayton      |OH   |US/Eastern|3.0           |SW            |Overcast         |false  |false|false   |false   |false|false          |false         |8   |Mon    |30.0              |1.0         |40.0      |17.0       |0.0           |7.0                 |5.0                    |4.0          |(2,[1],[1.0])|(13181,[40],[1.0])  |(48,[17],[1.0])|(3,[0],[1.0])|(23,[7],[1.0])    |(142,[5],[1.0])      |(6,[4],[1.0])|(2,[1],[1.0])|(13181,[40],[1.0])  |(48,[17],[1.0])|(3,[0],[1.0])|(23,[7],[1.0])    |(142,[5],[1.0])      |(6,[4],[1.0])|\n",
      "|Source2|2       |-84.224007        |39.748329         |0.01        |Dayton      |OH   |US/Eastern|7.0           |WSW           |Mostly Cloudy    |false  |false|false   |false   |false|false          |false         |8   |Mon    |30.0              |1.0         |40.0      |17.0       |0.0           |8.0                 |1.0                    |4.0          |(2,[1],[1.0])|(13181,[40],[1.0])  |(48,[17],[1.0])|(3,[0],[1.0])|(23,[8],[1.0])    |(142,[1],[1.0])      |(6,[4],[1.0])|(2,[1],[1.0])|(13181,[40],[1.0])  |(48,[17],[1.0])|(3,[0],[1.0])|(23,[8],[1.0])    |(142,[1],[1.0])      |(6,[4],[1.0])|\n",
      "|Source2|2       |-84.239952        |39.752174         |0.0         |Dayton      |OH   |US/Eastern|10.0          |NW            |Mostly Cloudy    |false  |false|false   |false   |false|false          |false         |9   |Mon    |30.0              |1.0         |40.0      |17.0       |0.0           |5.0                 |1.0                    |4.0          |(2,[1],[1.0])|(13181,[40],[1.0])  |(48,[17],[1.0])|(3,[0],[1.0])|(23,[5],[1.0])    |(142,[1],[1.0])      |(6,[4],[1.0])|(2,[1],[1.0])|(13181,[40],[1.0])  |(48,[17],[1.0])|(3,[0],[1.0])|(23,[5],[1.0])    |(142,[1],[1.0])      |(6,[4],[1.0])|\n",
      "|Source2|2       |-84.184135        |39.740669         |0.01        |Dayton      |OH   |US/Eastern|10.0          |WSW           |Overcast         |false  |false|true    |false   |false|false          |true          |9   |Mon    |30.0              |1.0         |40.0      |17.0       |0.0           |8.0                 |5.0                    |4.0          |(2,[1],[1.0])|(13181,[40],[1.0])  |(48,[17],[1.0])|(3,[0],[1.0])|(23,[8],[1.0])    |(142,[5],[1.0])      |(6,[4],[1.0])|(2,[1],[1.0])|(13181,[40],[1.0])  |(48,[17],[1.0])|(3,[0],[1.0])|(23,[8],[1.0])    |(142,[5],[1.0])      |(6,[4],[1.0])|\n",
      "|Source2|2       |-84.244461        |39.790703         |0.01        |Dayton      |OH   |US/Eastern|10.0          |West          |Mostly Cloudy    |false  |false|false   |false   |false|false          |false         |9   |Mon    |30.0              |1.0         |40.0      |17.0       |0.0           |20.0                |1.0                    |4.0          |(2,[1],[1.0])|(13181,[40],[1.0])  |(48,[17],[1.0])|(3,[0],[1.0])|(23,[20],[1.0])   |(142,[1],[1.0])      |(6,[4],[1.0])|(2,[1],[1.0])|(13181,[40],[1.0])  |(48,[17],[1.0])|(3,[0],[1.0])|(23,[20],[1.0])   |(142,[1],[1.0])      |(6,[4],[1.0])|\n",
      "+-------+--------+------------------+------------------+------------+------------+-----+----------+--------------+--------------+-----------------+-------+-----+--------+--------+-----+---------------+--------------+----+-------+------------------+------------+----------+-----------+--------------+--------------------+-----------------------+-------------+-------------+--------------------+---------------+-------------+------------------+---------------------+-------------+-------------+--------------------+---------------+-------------+------------------+---------------------+-------------+\n",
      "only showing top 20 rows\n",
      "\n"
     ]
    }
   ],
   "source": [
    "from pyspark.ml.feature import StringIndexer, OneHotEncoder\n",
    "from pyspark.ml import Pipeline\n",
    "from pyspark.sql.functions import col\n",
    "\n",
    "# Identifikasi kolom kategorikal (tipe data string)\n",
    "categorical_columns = ['Source', 'City', 'State', 'Timezone', 'Wind_Direction', 'Weather_Condition', 'Weekday']\n",
    "\n",
    "# Buat daftar tahap dalam pipeline untuk indexing dan encoding\n",
    "indexers = [StringIndexer(inputCol=column, outputCol=column + \"_index\", handleInvalid=\"skip\") for column in categorical_columns]\n",
    "encoders = [OneHotEncoder(inputCol=column + \"_index\", outputCol=column + \"_ohe\") for column in categorical_columns]\n",
    "\n",
    "# Gabungkan indexer dan encoder dalam satu pipeline\n",
    "pipeline = Pipeline(stages=indexers + encoders)\n",
    "\n",
    "# Terapkan pipeline ke DataFrame\n",
    "df_sel_encoded = pipeline.fit(df_sel).transform(df_sel)\n",
    "\n",
    "# Tampilkan hasil DataFrame yang di-encode (semua kolom, termasuk kolom yang baru di-encode)\n",
    "df_sel_encoded.select([col for col in df_sel_encoded.columns] + [col + \"_ohe\" for col in categorical_columns]).show(truncate=False)\n"
   ]
  },
  {
   "cell_type": "markdown",
   "metadata": {},
   "source": [
    "## Menggabungkan Semua Fitur"
   ]
  },
  {
   "cell_type": "code",
   "execution_count": 14,
   "metadata": {},
   "outputs": [],
   "source": [
    "from pyspark.ml.feature import VectorAssembler\n",
    "from pyspark.ml.classification import LogisticRegression\n",
    "from pyspark.ml.evaluation import MulticlassClassificationEvaluator\n",
    "\n",
    "# Kolom fitur: Semua kolom yang telah di-encode dan fitur numerik lainnya\n",
    "feature_columns = [col for col in df_sel_encoded.columns if col.endswith('_ohe') or col in ['Start_Lng', 'Start_Lat', 'Distance(mi)', 'Visibility(mi)', 'Hour', 'Time_Duration(min)']]\n",
    "\n",
    "# Menggabungkan semua fitur menjadi satu vektor menggunakan VectorAssembler\n",
    "assembler = VectorAssembler(inputCols=feature_columns, outputCol=\"features\")\n",
    "\n",
    "# Transformasi DataFrame: Menggabungkan fitur\n",
    "df_final = assembler.transform(df_sel_encoded)\n",
    "\n",
    "# Hasil akhirnya adalah kolom `features` dan target `Severity`\n",
    "df_final = df_final.select(\"features\", \"Severity\")\n"
   ]
  },
  {
   "cell_type": "code",
   "execution_count": 15,
   "metadata": {},
   "outputs": [
    {
     "name": "stdout",
     "output_type": "stream",
     "text": [
      "root\n",
      " |-- features: vector (nullable = true)\n",
      " |-- Severity: integer (nullable = true)\n",
      "\n",
      "+----------------------------------------------------------------------------------------------------------------------------------------+--------+\n",
      "|features                                                                                                                                |Severity|\n",
      "+----------------------------------------------------------------------------------------------------------------------------------------+--------+\n",
      "|(13411,[0,1,2,3,4,5,7,48,13206,13237,13246,13269,13409],[-84.058723,39.865147,0.01,10.0,5.0,314.0,1.0,1.0,1.0,1.0,1.0,1.0,1.0])         |3       |\n",
      "|(13411,[0,1,2,3,4,5,7,2014,13206,13237,13246,13269,13409],[-82.831184,39.92805900000001,0.01,10.0,6.0,30.0,1.0,1.0,1.0,1.0,1.0,1.0,1.0])|2       |\n",
      "|(13411,[0,1,2,3,4,5,7,557,13206,13237,13247,13268,13409],[-84.032608,39.063148,0.01,10.0,6.0,30.0,1.0,1.0,1.0,1.0,1.0,1.0,1.0])         |2       |\n",
      "|(13411,[0,1,2,3,4,5,7,48,13206,13237,13247,13264,13409],[-84.20558199999998,39.747753,0.01,9.0,7.0,30.0,1.0,1.0,1.0,1.0,1.0,1.0,1.0])   |3       |\n",
      "|(13411,[0,1,2,3,4,5,7,48,13206,13237,13247,13264,13409],[-84.188354,39.627781,0.01,6.0,7.0,30.0,1.0,1.0,1.0,1.0,1.0,1.0,1.0])           |2       |\n",
      "+----------------------------------------------------------------------------------------------------------------------------------------+--------+\n",
      "only showing top 5 rows\n",
      "\n"
     ]
    }
   ],
   "source": [
    "# Tampilkan skema dari df_final untuk memastikan kolom `features` dan `Severity` ada\n",
    "df_final.printSchema()\n",
    "\n",
    "# Tampilkan beberapa baris untuk melihat apakah kolom 'features' sudah benar\n",
    "df_final.show(5, truncate=False)"
   ]
  },
  {
   "cell_type": "code",
   "execution_count": 16,
   "metadata": {},
   "outputs": [
    {
     "name": "stdout",
     "output_type": "stream",
     "text": [
      "+---------+---------+------------+--------------+----+------------------+----------+--------+---------+------------+------------------+---------------------+-----------+\n",
      "|Start_Lng|Start_Lat|Distance(mi)|Visibility(mi)|Hour|Time_Duration(min)|Source_ohe|City_ohe|State_ohe|Timezone_ohe|Wind_Direction_ohe|Weather_Condition_ohe|Weekday_ohe|\n",
      "+---------+---------+------------+--------------+----+------------------+----------+--------+---------+------------+------------------+---------------------+-----------+\n",
      "|        0|        0|           0|             0|   0|                 0|         0|       0|        0|           0|                 0|                    0|          0|\n",
      "+---------+---------+------------+--------------+----+------------------+----------+--------+---------+------------+------------------+---------------------+-----------+\n",
      "\n"
     ]
    }
   ],
   "source": [
    "# Cek jumlah nilai null di setiap kolom fitur\n",
    "df_sel_encoded.select(feature_columns).agg(*[F.count(F.when(F.col(c).isNull(), c)).alias(c) for c in feature_columns]).show()"
   ]
  },
  {
   "cell_type": "markdown",
   "metadata": {},
   "source": [
    "# Split Train Test"
   ]
  },
  {
   "cell_type": "code",
   "execution_count": 17,
   "metadata": {},
   "outputs": [],
   "source": [
    "# Sampling data, misalnya gunakan hanya 50% dari data yang tersedia\n",
    "df_sampled = df_final.sample(fraction=0.01, seed=42)\n",
    "\n",
    "# Split data yang sudah disampling menjadi train dan test sets (misalnya 80% train dan 20% test)\n",
    "train_data, test_data = df_sampled.randomSplit([0.8, 0.2], seed=42)"
   ]
  },
  {
   "cell_type": "markdown",
   "metadata": {},
   "source": [
    "# Decision Tree"
   ]
  },
  {
   "cell_type": "code",
   "execution_count": 18,
   "metadata": {},
   "outputs": [
    {
     "name": "stdout",
     "output_type": "stream",
     "text": [
      "+--------------------+--------+----------+\n",
      "|            features|Severity|prediction|\n",
      "+--------------------+--------+----------+\n",
      "|(13411,[0,1,2,3,4...|       2|       2.0|\n",
      "|(13411,[0,1,2,3,4...|       3|       2.0|\n",
      "|(13411,[0,1,2,3,4...|       2|       2.0|\n",
      "|(13411,[0,1,2,3,4...|       2|       2.0|\n",
      "|(13411,[0,1,2,3,4...|       3|       2.0|\n",
      "+--------------------+--------+----------+\n",
      "only showing top 5 rows\n",
      "\n"
     ]
    }
   ],
   "source": [
    "from pyspark.ml.classification import DecisionTreeClassifier\n",
    "from pyspark.ml.evaluation import MulticlassClassificationEvaluator\n",
    "\n",
    "# Inisialisasi Decision Tree Classifier (menggunakan 'gini' sebagai kriteria default)\n",
    "dt = DecisionTreeClassifier(labelCol=\"Severity\", featuresCol=\"features\", maxDepth=4)\n",
    "\n",
    "# Latih model pada training data\n",
    "dt_model = dt.fit(train_data)\n",
    "\n",
    "# Prediksi pada test data\n",
    "predictions = dt_model.transform(test_data)\n",
    "\n",
    "# Tampilkan beberapa prediksi++ \n",
    "predictions.select(\"features\", \"Severity\", \"prediction\").show(5)"
   ]
  },
  {
   "cell_type": "code",
   "execution_count": 19,
   "metadata": {},
   "outputs": [
    {
     "name": "stdout",
     "output_type": "stream",
     "text": [
      "[Decision Tree -- gini] Accuracy score: 0.802\n",
      "[Random Forest] F1 score: 0.730\n",
      "[Random Forest] Precision score: 0.747\n"
     ]
    }
   ],
   "source": [
    "# Inisialisasi evaluator untuk klasifikasi\n",
    "evaluator = MulticlassClassificationEvaluator(labelCol=\"Severity\", predictionCol=\"prediction\", metricName=\"accuracy\")\n",
    "\n",
    "# Hitung akurasi model\n",
    "accuracy = evaluator.evaluate(predictions)"
   ]
  },
  {
   "cell_type": "code",
   "execution_count": 21,
   "metadata": {},
   "outputs": [
    {
     "name": "stdout",
     "output_type": "stream",
     "text": [
      "[Decision Tree -- gini] Accuracy score: 0.802\n",
      "[Decision Tree] F1 score: 0.730\n",
      "[Decision Tree] Precision score: 0.747\n"
     ]
    }
   ],
   "source": [
    "# Tampilkan hasil akurasi\n",
    "print(\"[Decision Tree -- gini] Accuracy score: {:.3f}\".format(accuracy))\n",
    "\n",
    "# Hitung F1 score\n",
    "f1_rf = evaluator.evaluate(predictions, {evaluator.metricName: \"f1\"})\n",
    "print(\"[Decision Tree] F1 score: {:.3f}\".format(f1_rf))\n",
    "\n",
    "# Hitung Precision\n",
    "precision_rf = evaluator.evaluate(predictions, {evaluator.metricName: \"weightedPrecision\"})\n",
    "print(\"[Decision Tree] Precision score: {:.3f}\".format(precision_rf))"
   ]
  },
  {
   "cell_type": "code",
   "execution_count": 20,
   "metadata": {},
   "outputs": [
    {
     "name": "stdout",
     "output_type": "stream",
     "text": [
      "Feature Importances (Sorted):\n",
      "Source_ohe: 0.7530849728623232\n",
      "Time_Duration(min): 0.08470811022794388\n",
      "Distance(mi): 0.07805722069589045\n",
      "Hour: 0.043650897043404614\n",
      "Start_Lng: 0.0\n",
      "Start_Lat: 0.0\n",
      "Visibility(mi): 0.0\n",
      "City_ohe: 0.0\n",
      "State_ohe: 0.0\n",
      "Timezone_ohe: 0.0\n",
      "Wind_Direction_ohe: 0.0\n",
      "Weather_Condition_ohe: 0.0\n",
      "Weekday_ohe: 0.0\n"
     ]
    }
   ],
   "source": [
    "# Pastikan Decision Tree telah dilatih sebelumnya\n",
    "# Misalnya: dt_model = dt.fit(train_data)\n",
    "\n",
    "# Ambil feature importance dari model Decision Tree\n",
    "feature_importances = dt_model.featureImportances\n",
    "\n",
    "# Gabungkan nama fitur dan importance dalam satu list\n",
    "feature_importance_list = [(col, feature_importances[i]) for i, col in enumerate(feature_columns)]\n",
    "\n",
    "# Urutkan berdasarkan nilai importance (dari tertinggi ke terendah)\n",
    "feature_importance_sorted = sorted(feature_importance_list, key=lambda x: x[1], reverse=True)\n",
    "\n",
    "# Tampilkan fitur yang diurutkan berdasarkan importance\n",
    "print(\"Feature Importances (Sorted):\")\n",
    "for feature, importance in feature_importance_sorted:\n",
    "    print(f\"{feature}: {importance}\")\n"
   ]
  }
 ],
 "metadata": {
  "kernelspec": {
   "display_name": "Python 3",
   "language": "python",
   "name": "python3"
  },
  "language_info": {
   "codemirror_mode": {
    "name": "ipython",
    "version": 3
   },
   "file_extension": ".py",
   "mimetype": "text/x-python",
   "name": "python",
   "nbconvert_exporter": "python",
   "pygments_lexer": "ipython3",
   "version": "3.13.0"
  }
 },
 "nbformat": 4,
 "nbformat_minor": 4
}
